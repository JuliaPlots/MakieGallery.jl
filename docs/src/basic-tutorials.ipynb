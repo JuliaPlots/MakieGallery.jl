{
 "cells": [
  {
   "cell_type": "markdown",
   "metadata": {},
   "source": [
    "# Tutorial\n",
    "\n",
    "Below is a quick tutorial to help get you started. Note that we assume you have Julia installed and configured already. Content from this tutorial directly correspond to that of the Plots.jl tutorial: http://docs.juliaplots.org/latest/tutorial/"
   ]
  },
  {
   "cell_type": "markdown",
   "metadata": {},
   "source": [
    "# Getting Makie\n",
    "\n",
    "Enter the package manager by typing <code>]</code> into the Repl. You should see <code>pkg></code>."
   ]
  },
  {
   "cell_type": "code",
   "execution_count": 29,
   "metadata": {},
   "outputs": [],
   "source": [
    "add Makie"
   ]
  },
  {
   "cell_type": "markdown",
   "metadata": {},
   "source": [
    "# Getting the latest version of Makie\n",
    "\n",
    "Run the following commands in the package manager:"
   ]
  },
  {
   "cell_type": "code",
   "execution_count": 32,
   "metadata": {},
   "outputs": [],
   "source": [
    "add Makie#master AbstractPlotting#master GLMakie#master\n",
    "test Makie"
   ]
  },
  {
   "cell_type": "markdown",
   "metadata": {},
   "source": [
    "The first use of Makie might take a little bit of time, due to precompilation."
   ]
  },
  {
   "cell_type": "markdown",
   "metadata": {},
   "source": [
    "# Set the <code>Scene </code>\n",
    "\n",
    "The <code>Scene</code> object holds everything in a plot, and you can initialize it like so:"
   ]
  },
  {
   "cell_type": "code",
   "execution_count": 33,
   "metadata": {},
   "outputs": [],
   "source": [
    "scene = Scene()"
   ]
  },
  {
   "cell_type": "markdown",
   "metadata": {},
   "source": [
    "Note that before you put anything in the scene, it will be blan"
   ]
  },
  {
   "cell_type": "markdown",
   "metadata": {},
   "source": [
    "# Getting help\n",
    "\n",
    "The user-facing functions of Makie are pretty well documented, so you can usually use the help mode in the REPL, or your editor of choice. If you countinue to have issues, see [Getting Help](http://makie.juliaplots.org/dev/index.html#Getting-Help-1)."
   ]
  },
  {
   "cell_type": "markdown",
   "metadata": {},
   "source": [
    "# Basic plotting\n",
    "\n",
    "Below are some examples of basic plots to help you get oriented.\n",
    "\n",
    "You can put your mouse in the plot window and scroll to zoom. **Right click and drag** lets you pan around the scene, and **left click and drag** lets you do selection zoom (in 2D plots), or orbit around the scene (in 3D plots).\n",
    "\n",
    "Many of these examples also work in 3D.\n",
    "\n",
    "It is worth noting initally that if you run a Makie.jl example and nothing shows up, you likely need to do <code>display(scene)</code> to render the example on screen. Details [below](#dynamic)"
   ]
  },
  {
   "cell_type": "markdown",
   "metadata": {},
   "source": [
    "## Line plot"
   ]
  },
  {
   "cell_type": "code",
   "execution_count": 40,
   "metadata": {},
   "outputs": [
    {
     "data": {
      "text/plain": [
       "GLMakie.Screen(...)"
      ]
     },
     "execution_count": 40,
     "metadata": {},
     "output_type": "execute_result"
    }
   ],
   "source": [
    "using Makie\n",
    "\n",
    "x = 1:10; y1 = rand(10);\n",
    "scene = lines(x,y1)\n",
    "display(scene)"
   ]
  },
  {
   "cell_type": "markdown",
   "metadata": {},
   "source": [
    "## Adding to a scene"
   ]
  },
  {
   "cell_type": "code",
   "execution_count": 39,
   "metadata": {},
   "outputs": [
    {
     "data": {
      "text/plain": [
       "GLMakie.Screen(...)"
      ]
     },
     "execution_count": 39,
     "metadata": {},
     "output_type": "execute_result"
    }
   ],
   "source": [
    "using Makie\n",
    "\n",
    "y2 = rand(10); y3 = rand(10);\n",
    "lines!(scene, x, y2, color = :blue)\n",
    "lines!(scene, x, y3, color = :green)\n",
    "display(scene)"
   ]
  },
  {
   "cell_type": "markdown",
   "metadata": {},
   "source": [
    "## Adding title, axes labels"
   ]
  },
  {
   "cell_type": "code",
   "execution_count": 21,
   "metadata": {},
   "outputs": [
    {
     "data": {
      "text/plain": [
       "GLMakie.Screen(...)"
      ]
     },
     "execution_count": 21,
     "metadata": {},
     "output_type": "execute_result"
    }
   ],
   "source": [
    "sc_t = title(scene, \"Multiple Lines\") #only works when scene is not displayed in separate window\n",
    "xlabel!(scene, \"x-axis\")\n",
    "ylabel!(scene, \"y-axis\")\n",
    "sc_t\n",
    "display(scene)"
   ]
  },
  {
   "cell_type": "markdown",
   "metadata": {},
   "source": [
    "## Scatter Plot"
   ]
  },
  {
   "cell_type": "code",
   "execution_count": 10,
   "metadata": {},
   "outputs": [
    {
     "data": {
      "text/plain": [
       "GLMakie.Screen(...)"
      ]
     },
     "execution_count": 10,
     "metadata": {},
     "output_type": "execute_result"
    }
   ],
   "source": [
    "using Makie\n",
    "\n",
    "x = rand(10) \n",
    "y = rand(10)\n",
    "scene = scatter(x, color = :blue)\n",
    "scatter!(y, color = :orange)\n",
    "\n",
    "display(scene)"
   ]
  },
  {
   "cell_type": "markdown",
   "metadata": {},
   "source": [
    "## Combining Multiple Plots as Subplots"
   ]
  },
  {
   "cell_type": "code",
   "execution_count": 25,
   "metadata": {},
   "outputs": [
    {
     "data": {},
     "execution_count": 25,
     "metadata": {},
     "output_type": "execute_result"
    }
   ],
   "source": [
    "using Makie\n",
    "import AbstractPlotting: pixelarea\n",
    "\n",
    "scene = Scene(resolution=(900,1600))\n",
    "\n",
    "area1 = map(pixelarea(scene)) do hh\n",
    "    pad, w, h = 30, 870, 370\n",
    "    FRect(Point2f0(30, 30), Point2f0(w,h))\n",
    "end\n",
    "\n",
    "area2 = map(pixelarea(scene)) do hh\n",
    "    pad, w, h = 30, 870, 370\n",
    "    FRect(Point2f0(30, h+2*pad), Point2f0(w,h))\n",
    "end\n",
    "\n",
    "area3 = map(pixelarea(scene)) do hh\n",
    "    pad, w, h = 30, 870, 370\n",
    "    FRect(Point2f0(30, 2*h+2*pad), Point2f0(w,h))\n",
    "end\n",
    "\n",
    "area4 = map(pixelarea(scene)) do hh\n",
    "    pad, w, h = 30, 870, 370\n",
    "    FRect(Point2f0(30, 3*h+2*pad), Point2f0(w,h))\n",
    "end\n",
    "\n",
    "scene1 = Scene(scene, area1)\n",
    "scene2 = Scene(scene, area2)\n",
    "scene3 = Scene(scene, area3)\n",
    "scene4 = Scene(scene, area4)\n",
    "lines!(scene1, 1:10, rand(10),color=\"blue\")[end]\n",
    "lines!(scene2, 1:10, rand(10), color=\"blue\")[end]\n",
    "lines!(scene3, 1:10, rand(10), color=\"blue\")[end]\n",
    "lines!(scene4, 1:10, rand(10), color=\"blue\")[end]\n",
    "\n",
    "scene\n",
    "\n",
    "display(scene)"
   ]
  },
  {
   "cell_type": "markdown",
   "metadata": {},
   "source": [
    "## Multiple Subplots 2"
   ]
  },
  {
   "cell_type": "code",
   "execution_count": 52,
   "metadata": {},
   "outputs": [
    {
     "data": {},
     "execution_count": 52,
     "metadata": {},
     "output_type": "execute_result"
    }
   ],
   "source": [
    "using Makie\n",
    "import AbstractPlotting: pixelarea\n",
    "\n",
    "scene = Scene(resolution=(1200,900))\n",
    "\n",
    "left_down = map(pixelarea(scene)) do hh\n",
    "    pad, w, h = 30, 555, 420\n",
    "    FRect(Point2f0(30, 30), Point2f0(w,h))\n",
    "end\n",
    "\n",
    "right_down = map(pixelarea(scene)) do hh\n",
    "    pad, w, h = 30, 555, 420\n",
    "    FRect(Point2f0(w+2*30, 30), Point2f0(w,h))\n",
    "end\n",
    "\n",
    "left_up = map(pixelarea(scene)) do hh\n",
    "    pad, w, h = 30, 555, 420\n",
    "    FRect(Point2f0(30, h+2*pad), Point2f0(w,h))\n",
    "end\n",
    "\n",
    "right_up = map(pixelarea(scene)) do hh\n",
    "    pad, w, h = 30, 555, 420\n",
    "    FRect(Point2f0(w+2*30, h+2*pad), Point2f0(w,h))\n",
    "end\n",
    "\n",
    "scene1 = Scene(scene, left_down)\n",
    "scene2 = Scene(scene, right_down)\n",
    "scene3 = Scene(scene, left_up)\n",
    "scene4 = Scene(scene, right_up)\n",
    "\n",
    "x = 1:10\n",
    "y1 = rand(10); y2 = rand(10); y3 = rand(10); y4 = rand(10);\n",
    "lines!(scene3, x, y1, color = :blue)\n",
    "lines!(scene3, x, y2, color = :purple)\n",
    "lines!(scene3, x, y3, color = :green)\n",
    "lines!(scene3, x, y4, color = :orange)[end]\n",
    "\n",
    "lines!(scene1, x, y1, color = :blue)\n",
    "lines!(scene1, x, y2, color = :purple)\n",
    "lines!(scene1, x, y3, color = :green)\n",
    "lines!(scene1, x, y4, color = :orange)\n",
    "xlabel!(scene1, \"This one is labelled\")\n",
    "\n",
    "data = [7, 7, 3, 3]\n",
    "barplot!(scene2, [0, 0, 6, 6], color=\"green\")\n",
    "barplot!(scene2, [0, 0, 5, 5], color=\"blue\")\n",
    "barplot!(scene2, data, color=\"purple\")\n",
    "\n",
    "scatter!(scene4, y1, color= :blue)\n",
    "scatter!(scene4, y2, color = :orange)\n",
    "scatter!(scene4, y3, color= :purple)\n",
    "scatter!(scene4, y4, color = :green)[end]\n",
    "\n",
    "display(scene)"
   ]
  },
  {
   "cell_type": "markdown",
   "metadata": {},
   "source": [
    "# Using Recipes"
   ]
  },
  {
   "cell_type": "markdown",
   "metadata": {},
   "source": [
    "## Line plot"
   ]
  },
  {
   "cell_type": "code",
   "execution_count": 75,
   "metadata": {},
   "outputs": [
    {
     "data": {
      "text/plain": [
       "GLMakie.Screen(...)"
      ]
     },
     "execution_count": 75,
     "metadata": {},
     "output_type": "execute_result"
    }
   ],
   "source": [
    "using DataFrames\n",
    "using Makie\n",
    "using StatsMakie\n",
    "\n",
    "df = DataFrame(a=1:10, b=rand(10), c=rand(10))\n",
    "\n",
    "scene = Scene()\n",
    "lines!(scene, df.a, df.b, color= :blue)\n",
    "lines!(scene, df.a, df.c, color= :orange)\n",
    "\n",
    "display(scene)"
   ]
  },
  {
   "cell_type": "markdown",
   "metadata": {},
   "source": [
    "## Scatter plot"
   ]
  },
  {
   "cell_type": "code",
   "execution_count": 77,
   "metadata": {},
   "outputs": [
    {
     "data": {
      "text/plain": [
       "GLMakie.Screen(...)"
      ]
     },
     "execution_count": 77,
     "metadata": {},
     "output_type": "execute_result"
    }
   ],
   "source": [
    "using DataFrames\n",
    "using Makie\n",
    "using StatsMakie\n",
    "\n",
    "scene = Scene()\n",
    "scatter!(scene, df.b, color= :blue)\n",
    "\n",
    "display(scene)"
   ]
  },
  {
   "cell_type": "markdown",
   "metadata": {},
   "source": [
    "## Normal Distribution"
   ]
  },
  {
   "cell_type": "code",
   "execution_count": 154,
   "metadata": {},
   "outputs": [
    {
     "data": {
      "text/plain": [
       "GLMakie.Screen(...)"
      ]
     },
     "execution_count": 154,
     "metadata": {},
     "output_type": "execute_result"
    }
   ],
   "source": [
    "using StatsMakie\n",
    "using DataFrames\n",
    "using Distributions\n",
    "\n",
    "d = Normal(3,5)\n",
    "df = DataFrame(a=1:10, b=rand(d, 10))\n",
    "\n",
    "scene = Scene()\n",
    "\n",
    "plot!(\n",
    "    scene, \n",
    "    density,\n",
    "    Data(df),\n",
    "    :b,\n",
    "    color = \"blue\"\n",
    " )\n",
    "\n",
    "display(scene)"
   ]
  },
  {
   "cell_type": "markdown",
   "metadata": {},
   "source": [
    "## Plotting Iris Dataset"
   ]
  },
  {
   "cell_type": "code",
   "execution_count": 23,
   "metadata": {},
   "outputs": [
    {
     "data": {
      "text/plain": [
       "GLMakie.Screen(...)"
      ]
     },
     "execution_count": 23,
     "metadata": {},
     "output_type": "execute_result"
    }
   ],
   "source": [
    "using Makie\n",
    "using StatsMakie\n",
    "using DataFrames, RDatasets # for data\n",
    "using Distributions\n",
    "\n",
    "iris = dataset(\"datasets\", \"iris\")\n",
    "\n",
    "disallowmissing!.([iris])  # convert columns from Union{T, Missing} to T\n",
    " # We can use this because the dataset has no missing values.\n",
    "scene = Scene()\n",
    "plot!(\n",
    "     scene,\n",
    "     histogram,         # the type of analysis\n",
    "     Data(iris),\n",
    "     :PetalLength,\n",
    "     color = rand(10)\n",
    " )\n",
    "display(scene)"
   ]
  },
  {
   "cell_type": "markdown",
   "metadata": {},
   "source": [
    "## Violin plot"
   ]
  },
  {
   "cell_type": "code",
   "execution_count": 27,
   "metadata": {},
   "outputs": [
    {
     "data": {
      "text/plain": [
       "GLMakie.Screen(...)"
      ]
     },
     "execution_count": 27,
     "metadata": {},
     "output_type": "execute_result"
    }
   ],
   "source": [
    "using Makie\n",
    "using AbstractPlotting\n",
    "\n",
    "scene = violin(Data(iris), :PetalLength, :SepalWidth)\n",
    "display(scene)"
   ]
  },
  {
   "cell_type": "markdown",
   "metadata": {},
   "source": [
    "## Violin and box plot"
   ]
  },
  {
   "cell_type": "code",
   "execution_count": 28,
   "metadata": {},
   "outputs": [
    {
     "data": {
      "text/plain": [
       "GLMakie.Screen(...)"
      ]
     },
     "execution_count": 28,
     "metadata": {},
     "output_type": "execute_result"
    }
   ],
   "source": [
    "boxplot!(scene, Data(iris), :PetalLength, :SepalWidth, color= \"blue\")\n",
    "display(scene)"
   ]
  },
  {
   "cell_type": "markdown",
   "metadata": {},
   "source": [
    "# Controlling display programmatically"
   ]
  },
  {
   "cell_type": "markdown",
   "metadata": {},
   "source": [
    "<code>Scenes</code> will only display by default in global scope. To make a Scene display when it's defined in a local scope, like a function or a module, you can call <code>display(scene)</code>, which will automatically display it in the best available display.\n",
    "You can force display to the backend's preferred window by calling <code>display(AbstractPlotting.PlotDisplay(), scene).</code>"
   ]
  },
  {
   "cell_type": "markdown",
   "metadata": {},
   "source": [
    "# Saving plots"
   ]
  },
  {
   "cell_type": "markdown",
   "metadata": {},
   "source": [
    "See the <a href=\"https://github.com/JuliaPlots/MakieGallery.jl/blob/master/docs/src/@ref\"> Output</a> section."
   ]
  },
  {
   "cell_type": "markdown",
   "metadata": {},
   "source": [
    "# Animations"
   ]
  },
  {
   "cell_type": "markdown",
   "metadata": {},
   "source": [
    "See the <a href=\"https://github.com/JuliaPlots/MakieGallery.jl/blob/master/docs/src/@ref\"> Animation </a> section, as well as the <a href=\"https://github.com/JuliaPlots/MakieGallery.jl/blob/master/docs/src/@ref\"> Interaction </a> section."
   ]
  },
  {
   "cell_type": "markdown",
   "metadata": {},
   "source": [
    "# More examples"
   ]
  },
  {
   "cell_type": "markdown",
   "metadata": {},
   "source": [
    "See the <a href=\"http://juliaplots.org/MakieReferenceImages/gallery/index.html\">Example Gallery</a>."
   ]
  },
  {
   "cell_type": "markdown",
   "metadata": {},
   "source": [
    "# References\n",
    "\\[1\\] http://makie.juliaplots.org/dev/basic-tutorials.html \n",
    "\\[2\\] http://makie.juliaplots.org/dev/statsmakie.html#StatsMakie-Tutorial-1 \n",
    "\\[3\\] http://docs.juliaplots.org/latest/tutorial/ \n",
    "\\[4\\] http://makie.juliaplots.org/stable/ \n",
    "\\[5\\] https://github.com/JuliaPlots/Makie.jl/issues/183"
   ]
  },
  {
   "cell_type": "code",
   "execution_count": null,
   "metadata": {},
   "outputs": [],
   "source": []
  }
 ],
 "metadata": {
  "kernelspec": {
   "display_name": "Julia 1.3.0",
   "language": "julia",
   "name": "julia-1.3"
  },
  "language_info": {
   "file_extension": ".jl",
   "mimetype": "application/julia",
   "name": "julia",
   "version": "1.3.0"
  }
 },
 "nbformat": 4,
 "nbformat_minor": 2
}
